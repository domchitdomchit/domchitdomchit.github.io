{
  "nbformat": 4,
  "nbformat_minor": 0,
  "metadata": {
    "colab": {
      "name": "1_텍스트_전처리_3_어간추출_표제어추출.ipynb",
      "provenance": [],
      "collapsed_sections": [],
      "toc_visible": true,
      "authorship_tag": "ABX9TyNzNn6RlPXk5LNuZ5c4K1Ng",
      "include_colab_link": true
    },
    "kernelspec": {
      "name": "python3",
      "display_name": "Python 3"
    }
  },
  "cells": [
    {
      "cell_type": "markdown",
      "metadata": {
        "id": "view-in-github",
        "colab_type": "text"
      },
      "source": [
        "<a href=\"https://colab.research.google.com/github/doomchitdoomchit/domchitdomchit.github.io/blob/master/NLP/1_%ED%85%8D%EC%8A%A4%ED%8A%B8_%EC%A0%84%EC%B2%98%EB%A6%AC_3_%EC%96%B4%EA%B0%84%EC%B6%94%EC%B6%9C_%ED%91%9C%EC%A0%9C%EC%96%B4%EC%B6%94%EC%B6%9C.ipynb\" target=\"_parent\"><img src=\"https://colab.research.google.com/assets/colab-badge.svg\" alt=\"Open In Colab\"/></a>"
      ]
    },
    {
      "cell_type": "markdown",
      "metadata": {
        "id": "dIsIq2hG0DWJ"
      },
      "source": [
        "# 3. 어간 추출과 표제어 추출\n",
        ": 정규화 기법 중 코퍼스에 있는 단어릐 개수를 줄일 수 있는 기법인 표제어 추출과 어간 추출의 개념. 또한 이 둘이 어떻게 다른지\n",
        "\n",
        "이 두 작업이 갖고 있는 의미는 눈으로 봤을 때는 서로 다른 단어들이지만 하나의 단어로 일반화 시킬 수 있다면 하나의 단어로 일반화시켜서 문서내의 단어 수를 줄이겠다는 것 이러한 방법들은 단어의 빈도수를 기반으로 문제를 풀고자 하는 BoW 표현을 사용하는 자연어 처리 문제에서 주로 사용. \n",
        "\n",
        "정규화의 지향은 언제나 갖고 있는 코퍼스로부터 복잡성을 줄이는 일"
      ]
    },
    {
      "cell_type": "markdown",
      "metadata": {
        "id": "AUb0viXC1CwY"
      },
      "source": [
        "## 1.표제어 추출\n",
        ": 표제어는 한글로는 표제어 or 기본 사전형 단어 정도의 의미를 갖는다. 표제어 추출은 단어로부터 표제어를 찾아가는 과정. 표제어 추출은 단어즐이 다른 형태를 가지더라도, 그 뿌리 단어를 찾아가서 단어의 개수를 줄일 수 있는지 판단함. \n",
        "\n",
        "표제어 추출을 하는 가장 섬세한 방법은 단어의 형태학적 파싱을 먼저 진행하는 것. 형태소란 의미를 가진 가장 작은 단위를 뜻함.\n",
        "  1. 어간   \n",
        "  : 단어의 의미를 담고 있는 단어의 핵심 부분\n",
        "  2. 접사   \n",
        "  : 단어에 추가적인 의미를 주는 부분\n",
        "\n",
        "형태학적 파싱은 이 두가지 구성 요소를 분리하는 작업을 말함. \n",
        "\n",
        "NLTK에서 표제어 추출을 위한 도구인 WordNetLemmatizer을 지원"
      ]
    },
    {
      "cell_type": "code",
      "metadata": {
        "id": "PfIRRLWV2Pfu",
        "colab": {
          "base_uri": "https://localhost:8080/",
          "height": 70
        },
        "outputId": "6ad0e702-a1f2-4c49-85a2-bdfdd0f64720"
      },
      "source": [
        "import nltk\n",
        "nltk.download('wordnet')\n",
        "from nltk.stem import WordNetLemmatizer\n",
        "n=WordNetLemmatizer()\n",
        "words=['policy', 'doing', 'organization', 'have', 'going', 'love', 'lives', 'fly', 'dies', 'watched', 'has', 'starting']\n",
        "print([n.lemmatize(w) for w in words])"
      ],
      "execution_count": null,
      "outputs": [
        {
          "output_type": "stream",
          "text": [
            "[nltk_data] Downloading package wordnet to /root/nltk_data...\n",
            "[nltk_data]   Unzipping corpora/wordnet.zip.\n",
            "['policy', 'doing', 'organization', 'have', 'going', 'love', 'life', 'fly', 'dy', 'watched', 'ha', 'starting']\n"
          ],
          "name": "stdout"
        }
      ]
    },
    {
      "cell_type": "markdown",
      "metadata": {
        "id": "52v4lFvR20Du"
      },
      "source": [
        "어간 추출과 비교하면 표제어 추출은 어간 추출과 달리 단어의 형태가 적절히 보존하는 양상을 보이는 특징이 있음. 그럼에도 위의 결과는 dy, ha 같은 의미를 알 수 없는 적절하지 못한 단어 출력을 함. 왜냐하면 WordNetLemmatizer은 단어의 품사를 안 알려주기 때문에 추출기에 품사를 포함하여 돌리면 보다 정확한 단어가 추출된다."
      ]
    },
    {
      "cell_type": "code",
      "metadata": {
        "id": "exDM0nua2RQc",
        "colab": {
          "base_uri": "https://localhost:8080/",
          "height": 35
        },
        "outputId": "df290bc4-8889-40c7-9efb-ba2150869872"
      },
      "source": [
        "n.lemmatize('dies', 'v')"
      ],
      "execution_count": null,
      "outputs": [
        {
          "output_type": "execute_result",
          "data": {
            "text/plain": [
              "'die'"
            ]
          },
          "metadata": {
            "tags": []
          },
          "execution_count": 3
        }
      ]
    },
    {
      "cell_type": "code",
      "metadata": {
        "id": "9AwTgz2Y3jLe",
        "colab": {
          "base_uri": "https://localhost:8080/",
          "height": 35
        },
        "outputId": "dba9f0db-dcfe-4239-c84f-57ed0a85c054"
      },
      "source": [
        "n.lemmatize('watched', 'v')"
      ],
      "execution_count": null,
      "outputs": [
        {
          "output_type": "execute_result",
          "data": {
            "text/plain": [
              "'watch'"
            ]
          },
          "metadata": {
            "tags": []
          },
          "execution_count": 4
        }
      ]
    },
    {
      "cell_type": "code",
      "metadata": {
        "id": "RwcPpWxG3kui",
        "colab": {
          "base_uri": "https://localhost:8080/",
          "height": 35
        },
        "outputId": "f27be3e6-e112-4c1c-886c-bcbd7ec85147"
      },
      "source": [
        "n.lemmatize('has', 'v')"
      ],
      "execution_count": null,
      "outputs": [
        {
          "output_type": "execute_result",
          "data": {
            "text/plain": [
              "'have'"
            ]
          },
          "metadata": {
            "tags": []
          },
          "execution_count": 5
        }
      ]
    },
    {
      "cell_type": "markdown",
      "metadata": {
        "id": "QXNb9SxC4DvU"
      },
      "source": [
        "## 2.어간 추출\n",
        ": 어간을 추출하는 작업을 어단 추출이라고 함. 어간 추출은 형태학적 부석을 단순화한 버젼이라고 볼 수 있고, 정해진 규칙만 보고 단어의 어미를 자르는 어림짐작의 작업이라고 볼 수 있음."
      ]
    },
    {
      "cell_type": "code",
      "metadata": {
        "id": "3Sa7MR6C4bTb",
        "colab": {
          "base_uri": "https://localhost:8080/",
          "height": 90
        },
        "outputId": "48d43cd7-b047-4005-df8c-6f00c3d05067"
      },
      "source": [
        "nltk.download('punkt')\n",
        "from nltk.stem import PorterStemmer\n",
        "from nltk.tokenize import word_tokenize\n",
        "s = PorterStemmer()\n",
        "text=\"This was not the map we found in Billy Bones's chest, but an accurate copy, complete in all things--names and heights and soundings--with the single exception of the red crosses and the written notes.\"\n",
        "words=word_tokenize(text)\n",
        "print(words)"
      ],
      "execution_count": null,
      "outputs": [
        {
          "output_type": "stream",
          "text": [
            "[nltk_data] Downloading package punkt to /root/nltk_data...\n",
            "[nltk_data]   Unzipping tokenizers/punkt.zip.\n",
            "['This', 'was', 'not', 'the', 'map', 'we', 'found', 'in', 'Billy', 'Bones', \"'s\", 'chest', ',', 'but', 'an', 'accurate', 'copy', ',', 'complete', 'in', 'all', 'things', '--', 'names', 'and', 'heights', 'and', 'soundings', '--', 'with', 'the', 'single', 'exception', 'of', 'the', 'red', 'crosses', 'and', 'the', 'written', 'notes', '.']\n"
          ],
          "name": "stdout"
        }
      ]
    },
    {
      "cell_type": "code",
      "metadata": {
        "id": "9xc4gPVc4cqU",
        "colab": {
          "base_uri": "https://localhost:8080/",
          "height": 55
        },
        "outputId": "180161c8-58f7-439e-8a9c-94c60f0429c8"
      },
      "source": [
        "print([s.stem(w) for w in words])"
      ],
      "execution_count": null,
      "outputs": [
        {
          "output_type": "stream",
          "text": [
            "['thi', 'wa', 'not', 'the', 'map', 'we', 'found', 'in', 'billi', 'bone', \"'s\", 'chest', ',', 'but', 'an', 'accur', 'copi', ',', 'complet', 'in', 'all', 'thing', '--', 'name', 'and', 'height', 'and', 'sound', '--', 'with', 'the', 'singl', 'except', 'of', 'the', 'red', 'cross', 'and', 'the', 'written', 'note', '.']\n"
          ],
          "name": "stdout"
        }
      ]
    },
    {
      "cell_type": "markdown",
      "metadata": {
        "id": "we8RxB966ube"
      },
      "source": [
        "기본 규칙은\n",
        "* ALIZE → AL\n",
        "* ANCE → 제거\n",
        "* ICAL → IC\n",
        "\n",
        "※ Porter 알고리즘의 상세 규칙은 마틴 포터의 홈페이지에서 확인할 수 있다.\n",
        "\n",
        "어간의 추출 속도는 표제어 추출보다 일반적으로 빠른데, 포터 어간 추출기는 정밀하게 설계되어 정확도가 높으므로 영어 자연어 처리에서 어간 추출을 하고자 한다면, 가장 좋은 선택이다. NLTK에서는 포터 알고리즘 외에 랭커스터 스태머 알고리즘고 지원함. "
      ]
    },
    {
      "cell_type": "code",
      "metadata": {
        "id": "k105IEGF7eG0",
        "colab": {
          "base_uri": "https://localhost:8080/",
          "height": 35
        },
        "outputId": "a9e53bdc-15d6-4cb6-e658-dd36e20897b1"
      },
      "source": [
        "from nltk.stem import PorterStemmer\n",
        "s=PorterStemmer()\n",
        "words=['policy', 'doing', 'organization', 'have', 'going', 'love', 'lives', 'fly', 'dies', 'watched', 'has', 'starting']\n",
        "print([s.stem(w) for w in words])"
      ],
      "execution_count": null,
      "outputs": [
        {
          "output_type": "stream",
          "text": [
            "['polici', 'do', 'organ', 'have', 'go', 'love', 'live', 'fli', 'die', 'watch', 'ha', 'start']\n"
          ],
          "name": "stdout"
        }
      ]
    },
    {
      "cell_type": "code",
      "metadata": {
        "id": "6146BhU_7eki",
        "colab": {
          "base_uri": "https://localhost:8080/",
          "height": 35
        },
        "outputId": "a01b04ff-2881-4ac6-ce66-24128ee61c57"
      },
      "source": [
        "from nltk.stem import LancasterStemmer\n",
        "l=LancasterStemmer()\n",
        "words=['policy', 'doing', 'organization', 'have', 'going', 'love', 'lives', 'fly', 'dies', 'watched', 'has', 'starting']\n",
        "print([l.stem(w) for w in words])"
      ],
      "execution_count": null,
      "outputs": [
        {
          "output_type": "stream",
          "text": [
            "['policy', 'doing', 'org', 'hav', 'going', 'lov', 'liv', 'fly', 'die', 'watch', 'has', 'start']\n"
          ],
          "name": "stdout"
        }
      ]
    },
    {
      "cell_type": "markdown",
      "metadata": {
        "id": "F2nDQDvO7mBq"
      },
      "source": [
        "동일한 단어들의 나열에 대해서 두 스테머는 전혀 다른 결과를 보여준다. 이에 알려진 알고리즘같은 경우 직접 써보면서 코퍼스가 어느 알고리즘에 보다 더 적합한지 판단 후에 사용해야함."
      ]
    },
    {
      "cell_type": "markdown",
      "metadata": {
        "id": "or73FmZm8BQf"
      },
      "source": [
        "## 3.한국어에서의 어간 추출\n",
        ": 한국어는 5언 9품사의 구조를 가짐\n",
        "\n",
        "|언|품사|\n",
        "|-|-|\n",
        "|체언|명사, 대명사, 수사|\n",
        "|수식언|관형사, 부사|\n",
        "|관계언|조사|\n",
        "|독립언|감탄사|\n",
        "|용언|동사, 형용사|\n",
        "\n",
        "이중 용언에 해당하는 동사와 형용사는 어간과 어미의 결합으로 구성됨\n",
        "  \n",
        "  1. 활용   \n",
        "  : 어간과 어미를 가지는 일\n",
        "    * 어간 : 용언을 활용할 때, 원칙적으로 모양이 변하지 않는 부분, 활요엥서 어미에 선행하는 부분, 떄론 어간의 모양도 바뀔 수 있음\n",
        "    * 어미 : 용언의 어간 귀에서 붙어서 활용하면서 변하는 부분이며, 여러 문법적 기능을 수행\n",
        "\n",
        "  활용은 어간이 어미를 취할 때, 어간의 모습이 일정하다면 규칙 활용, 어간이나 어미의 모습이 변하는 불규칙 활용으로 나뉨.\n",
        "\n",
        "  2. 규칙 활용   \n",
        "  : 어간이 어미를 취할 때, 어간의 모습이 일정함.\n",
        "  \n",
        "  3. 불규칙 활용\n",
        "  : 어간이 어미를 취할 때, 어간의 모습이 바뀌거나 취하는 어미가 특수한 어미일 경우\n",
        "   https://namu.wiki/w/한국어/불규칙%20활용\n"
      ]
    }
  ]
}